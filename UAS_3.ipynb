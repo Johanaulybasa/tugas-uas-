{
  "nbformat": 4,
  "nbformat_minor": 0,
  "metadata": {
    "colab": {
      "provenance": []
    },
    "kernelspec": {
      "name": "python3",
      "display_name": "Python 3"
    },
    "language_info": {
      "name": "python"
    }
  },
  "cells": [
    {
      "cell_type": "code",
      "execution_count": 3,
      "metadata": {
        "colab": {
          "base_uri": "https://localhost:8080/"
        },
        "id": "HDnLOkffrJVO",
        "outputId": "4f958656-4df7-434e-f4c6-59554ce56ce1"
      },
      "outputs": [
        {
          "output_type": "stream",
          "name": "stdout",
          "text": [
            "['a', 'b', 'c', 'e', 'f', 'g', 'h', 'i', 'j']\n"
          ]
        }
      ],
      "source": [
        "#!/usr/bin/env python\n",
        "# coding: utf-8\n",
        "\n",
        "# In[1]:\n",
        "\n",
        "\n",
        "class Graph:\n",
        "    def __init__(self, gdict=None):\n",
        "        if gdict is None:\n",
        "            gdict = {}\n",
        "        self.gdict = gdict\n",
        "\n",
        "    def addEdge(self, vertex, edge):\n",
        "        self.gdict[vertex] = edge\n",
        "\n",
        "    def checkRoute(self, startNode, endNode):\n",
        "        visited = []\n",
        "        queue = [startNode]\n",
        "        path = []\n",
        "        if startNode == endNode:\n",
        "            return [startNode]\n",
        "        while queue:\n",
        "            deVertex = queue.pop(0)\n",
        "            if deVertex not in visited:\n",
        "                visited.append(deVertex)\n",
        "            else:\n",
        "                continue\n",
        "            if deVertex == endNode:\n",
        "                path.append(deVertex)\n",
        "                return path\n",
        "            if self.gdict[deVertex]:\n",
        "                path.append(deVertex)\n",
        "                adjacentVertices = self.gdict[deVertex]\n",
        "                for adjacentVertex in adjacentVertices:\n",
        "                    queue.append(adjacentVertex)\n",
        "        return None\n",
        "\n",
        "\n",
        "customDict = {\n",
        "    'a': ['b', 'c'],\n",
        "    'b': ['d'],\n",
        "    'c': ['e'],\n",
        "    'd': [],\n",
        "    'e': ['f'],\n",
        "    'f': ['g'],\n",
        "    'g': ['h'],\n",
        "    'h': ['i'],\n",
        "    'i': ['j'],\n",
        "    'j': []\n",
        "}\n",
        "\n",
        "g = Graph(customDict)\n",
        "print(g.checkRoute('a', 'j'))\n",
        "\n",
        "\n",
        "# In[ ]:"
      ]
    }
  ]
}