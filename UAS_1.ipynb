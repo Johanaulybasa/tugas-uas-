{
  "nbformat": 4,
  "nbformat_minor": 0,
  "metadata": {
    "colab": {
      "provenance": []
    },
    "kernelspec": {
      "name": "python3",
      "display_name": "Python 3"
    },
    "language_info": {
      "name": "python"
    }
  },
  "cells": [
    {
      "cell_type": "code",
      "execution_count": 8,
      "metadata": {
        "colab": {
          "base_uri": "https://localhost:8080/"
        },
        "id": "sL0wKpoHmsSn",
        "outputId": "f7e09e2d-bc12-4d22-ad4e-c1752a3945e1"
      },
      "outputs": [
        {
          "output_type": "stream",
          "name": "stdout",
          "text": [
            "Luas Trapesium = 24.0\n",
            "Luas Lingkaran = None\n",
            "Luas permukaan balok = 148\n",
            "Luas Segitiga = 24.0\n",
            "Luas Persegi Panjang = 50\n"
          ]
        }
      ],
      "source": [
        "#!/usr/bin/env python\n",
        "# coding: utf-8\n",
        "\n",
        "# In[4]:\n",
        "\n",
        "\n",
        "import math\n",
        "\n",
        "class BangunDatar:\n",
        "    def __init__(self, nama):\n",
        "        self.nama = nama\n",
        "\n",
        "    def hitung_luas(self):\n",
        "        pass\n",
        "\n",
        "class Trapesium(BangunDatar):\n",
        "    def __init__(self, nama, a, b, tinggi):\n",
        "        super().__init__(nama)\n",
        "        self.a = a\n",
        "        self.b = b\n",
        "        self.tinggi = tinggi\n",
        "\n",
        "    def hitung_luas(self):\n",
        "        return ((self.a + self.b) * self.tinggi) / 2\n",
        "\n",
        "class Lingkaran(BangunDatar):\n",
        "    def __init__(self, nama, radius):\n",
        "        super().__init__(nama)\n",
        "        self.radius = radius\n",
        "\n",
        "def hitung_luas(self):\n",
        "        return math.pi * self.radius**2\n",
        "\n",
        "class Balok:\n",
        "    def __init__(self, panjang, lebar, tinggi):\n",
        "        self.panjang = panjang\n",
        "        self.lebar = lebar\n",
        "        self.tinggi = tinggi\n",
        "\n",
        "    def hitung_luas(self):\n",
        "        return 2 * (self.panjang * self.lebar + self.panjang * self.tinggi + self.lebar * self.tinggi)\n",
        "\n",
        "\n",
        "class Segitiga(BangunDatar):\n",
        "    def __init__(self, nama, alas, tinggi):\n",
        "        super().__init__(nama)\n",
        "        self.alas = alas\n",
        "        self.tinggi = tinggi\n",
        "\n",
        "    def hitung_luas(self):\n",
        "        return (self.alas * self.tinggi) / 2\n",
        "\n",
        "class PersegiPanjang(BangunDatar):\n",
        "    def __init__(self, nama, panjang, lebar):\n",
        "        super().__init__(nama)\n",
        "        self.panjang = panjang\n",
        "        self.lebar = lebar\n",
        "\n",
        "    def hitung_luas(self):\n",
        "        return self.panjang * self.lebar\n",
        "\n",
        "class Persegi(BangunDatar):\n",
        "    def __init__(self, nama, sisi):\n",
        "        super().__init__(nama)\n",
        "        self.sisi = sisi\n",
        "\n",
        "    def hitung_luas(self):\n",
        "        return self.sisi**2\n",
        "\n",
        "# Contoh penggunaan\n",
        "trapesium = Trapesium(\"Trapesium\", 5, 7, 4)\n",
        "print(f\"Luas {trapesium.nama} = {trapesium.hitung_luas()}\")\n",
        "\n",
        "lingkaran = Lingkaran(\"Lingkaran\", 3)\n",
        "print(f\"Luas {lingkaran.nama} = {lingkaran.hitung_luas()}\")\n",
        "\n",
        "balok = Balok(6, 4, 5)\n",
        "print(f\"Luas permukaan balok = {balok.hitung_luas()}\")\n",
        "\n",
        "segitiga = Segitiga(\"Segitiga\", 6, 8)\n",
        "print(f\"Luas {segitiga.nama} = {segitiga.hitung_luas()}\")\n",
        "\n",
        "persegi_panjang = PersegiPanjang(\"Persegi Panjang\", 5, 10)\n",
        "print(f\"Luas {persegi_panjang.nama} = {persegi_panjang.hitung_luas()}\")\n",
        "\n",
        "persegi = Persegi(\"Persegi\", 4)"
      ]
    }
  ]
}